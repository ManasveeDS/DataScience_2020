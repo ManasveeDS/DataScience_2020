{
  "nbformat": 4,
  "nbformat_minor": 0,
  "metadata": {
    "accelerator": "GPU",
    "colab": {
      "name": "Copy of NLP Course - Week 3 Exercise Answer.ipynb",
      "provenance": [],
      "include_colab_link": true
    },
    "kernelspec": {
      "display_name": "Python 3",
      "name": "python3"
    }
  },
  "cells": [
    {
      "cell_type": "markdown",
      "metadata": {
        "id": "view-in-github",
        "colab_type": "text"
      },
      "source": [
        "<a href=\"https://colab.research.google.com/github/ManasveeDS/DataScience_2020/blob/master/Copy_of_NLP_Course_Week_3_Exercise_Answer.ipynb\" target=\"_parent\"><img src=\"https://colab.research.google.com/assets/colab-badge.svg\" alt=\"Open In Colab\"/></a>"
      ]
    },
    {
      "cell_type": "code",
      "metadata": {
        "id": "zX4Kg8DUTKWO",
        "colab_type": "code",
        "colab": {}
      },
      "source": [
        "#@title Licensed under the Apache License, Version 2.0 (the \"License\");\n",
        "# you may not use this file except in compliance with the License.\n",
        "# You may obtain a copy of the License at\n",
        "#\n",
        "# https://www.apache.org/licenses/LICENSE-2.0\n",
        "#\n",
        "# Unless required by applicable law or agreed to in writing, software\n",
        "# distributed under the License is distributed on an \"AS IS\" BASIS,\n",
        "# WITHOUT WARRANTIES OR CONDITIONS OF ANY KIND, either express or implied.\n",
        "# See the License for the specific language governing permissions and\n",
        "# limitations under the License."
      ],
      "execution_count": 0,
      "outputs": []
    },
    {
      "cell_type": "code",
      "metadata": {
        "colab_type": "code",
        "id": "hmA6EzkQJ5jt",
        "colab": {}
      },
      "source": [
        "import json\n",
        "import tensorflow as tf\n",
        "import csv\n",
        "import random\n",
        "import numpy as np\n",
        "\n",
        "from tensorflow.keras.preprocessing.text import Tokenizer\n",
        "from tensorflow.keras.preprocessing.sequence import pad_sequences\n",
        "from tensorflow.keras.utils import to_categorical\n",
        "from tensorflow.keras import regularizers\n",
        "\n",
        "\n",
        "embedding_dim = 100\n",
        "max_length = 16\n",
        "trunc_type='post'\n",
        "padding_type='post'\n",
        "oov_tok = \"<OOV>\"\n",
        "training_size=160000\n",
        "test_portion=.1\n",
        "\n",
        "corpus = []\n"
      ],
      "execution_count": 0,
      "outputs": []
    },
    {
      "cell_type": "code",
      "metadata": {
        "colab_type": "code",
        "id": "bM0l_dORKqE0",
        "outputId": "2a89fe8c-9bd8-4fe6-dceb-a96c503c8d48",
        "colab": {
          "base_uri": "https://localhost:8080/",
          "height": 204
        }
      },
      "source": [
        "# Note that I cleaned the Stanford dataset to remove LATIN1 encoding to make it easier for Python CSV reader\n",
        "# You can do that yourself with:\n",
        "# iconv -f LATIN1 -t UTF8 training.1600000.processed.noemoticon.csv -o training_cleaned.csv\n",
        "# I then hosted it on my site to make it easier to use in this notebook\n",
        "\n",
        "!wget --no-check-certificate \\\n",
        "    https://storage.googleapis.com/laurencemoroney-blog.appspot.com/training_cleaned.csv \\\n",
        "    -O /tmp/training_cleaned.csv\n",
        "\n",
        "num_sentences = 0\n",
        "\n",
        "with open(\"/tmp/training_cleaned.csv\") as csvfile:\n",
        "    reader = csv.reader(csvfile, delimiter=',')\n",
        "    for row in reader:\n",
        "        list_item=[]\n",
        "        list_item.append(row[5])\n",
        "        this_label=row[0]\n",
        "        if this_label=='0':\n",
        "            list_item.append(0)\n",
        "        else:\n",
        "            list_item.append(1)\n",
        "        num_sentences = num_sentences + 1\n",
        "        corpus.append(list_item)\n"
      ],
      "execution_count": 0,
      "outputs": [
        {
          "output_type": "stream",
          "text": [
            "--2020-04-23 04:14:41--  https://storage.googleapis.com/laurencemoroney-blog.appspot.com/training_cleaned.csv\n",
            "Resolving storage.googleapis.com (storage.googleapis.com)... 74.125.68.128, 2404:6800:4003:c04::80\n",
            "Connecting to storage.googleapis.com (storage.googleapis.com)|74.125.68.128|:443... connected.\n",
            "HTTP request sent, awaiting response... 200 OK\n",
            "Length: 238942690 (228M) [application/octet-stream]\n",
            "Saving to: ‘/tmp/training_cleaned.csv’\n",
            "\n",
            "/tmp/training_clean 100%[===================>] 227.87M  18.7MB/s    in 13s     \n",
            "\n",
            "2020-04-23 04:14:55 (17.1 MB/s) - ‘/tmp/training_cleaned.csv’ saved [238942690/238942690]\n",
            "\n"
          ],
          "name": "stdout"
        }
      ]
    },
    {
      "cell_type": "code",
      "metadata": {
        "colab_type": "code",
        "id": "3kxblBUjEUX-",
        "outputId": "a122bbae-8459-4590-ff6a-1563e0abac8a",
        "colab": {
          "base_uri": "https://localhost:8080/",
          "height": 68
        }
      },
      "source": [
        "print(num_sentences)\n",
        "print(len(corpus))\n",
        "print(corpus[1])\n",
        "\n",
        "# Expected Output:\n",
        "# 1600000\n",
        "# 1600000\n",
        "# [\"is upset that he can't update his Facebook by texting it... and might cry as a result  School today also. Blah!\", 0]"
      ],
      "execution_count": 0,
      "outputs": [
        {
          "output_type": "stream",
          "text": [
            "1600000\n",
            "1600000\n",
            "[\"is upset that he can't update his Facebook by texting it... and might cry as a result  School today also. Blah!\", 0]\n"
          ],
          "name": "stdout"
        }
      ]
    },
    {
      "cell_type": "code",
      "metadata": {
        "colab_type": "code",
        "id": "ohOGz24lsNAD",
        "colab": {}
      },
      "source": [
        "sentences=[]\n",
        "labels=[]\n",
        "random.shuffle(corpus)\n",
        "for x in range(training_size):\n",
        "    sentences.append(corpus[x][0])\n",
        "    labels.append(corpus[x][1])\n",
        "\n",
        "\n",
        "tokenizer = Tokenizer()\n",
        "tokenizer.fit_on_texts(sentences)\n",
        "\n",
        "word_index = tokenizer.word_index\n",
        "vocab_size=len(word_index)\n",
        "\n",
        "sequences = tokenizer.texts_to_sequences(sentences)\n",
        "padded = pad_sequences(sequences, maxlen=max_length, padding=padding_type, truncating=trunc_type)\n",
        "\n",
        "split = int(test_portion * training_size)\n",
        "\n",
        "test_sequences = padded[0:split]\n",
        "training_sequences = padded[split:training_size]\n",
        "test_labels = labels[0:split]\n",
        "training_labels = labels[split:training_size]"
      ],
      "execution_count": 0,
      "outputs": []
    },
    {
      "cell_type": "code",
      "metadata": {
        "colab_type": "code",
        "id": "gIrtRem1En3N",
        "outputId": "8388d0e9-eacd-4b2f-ed7e-4065268210a4",
        "colab": {
          "base_uri": "https://localhost:8080/",
          "height": 51
        }
      },
      "source": [
        "print(vocab_size)\n",
        "print(word_index['i'])\n",
        "# Expected Output\n",
        "# 138858\n",
        "# 1"
      ],
      "execution_count": 0,
      "outputs": [
        {
          "output_type": "stream",
          "text": [
            "138442\n",
            "1\n"
          ],
          "name": "stdout"
        }
      ]
    },
    {
      "cell_type": "code",
      "metadata": {
        "colab_type": "code",
        "id": "C1zdgJkusRh0",
        "outputId": "778e0ca6-19cf-4811-ecb2-f6fc389094db",
        "colab": {
          "base_uri": "https://localhost:8080/",
          "height": 204
        }
      },
      "source": [
        "# Note this is the 100 dimension version of GloVe from Stanford\n",
        "# I unzipped and hosted it on my site to make this notebook easier\n",
        "!wget --no-check-certificate \\\n",
        "    https://storage.googleapis.com/laurencemoroney-blog.appspot.com/glove.6B.100d.txt \\\n",
        "    -O /tmp/glove.6B.100d.txt\n",
        "embeddings_index = {};\n",
        "with open('/tmp/glove.6B.100d.txt') as f:\n",
        "    for line in f:\n",
        "        values = line.split();\n",
        "        word = values[0];\n",
        "        coefs = np.asarray(values[1:], dtype='float32');\n",
        "        embeddings_index[word] = coefs;\n",
        "\n",
        "embeddings_matrix = np.zeros((vocab_size+1, embedding_dim));\n",
        "for word, i in word_index.items():\n",
        "    embedding_vector = embeddings_index.get(word);\n",
        "    if embedding_vector is not None:\n",
        "        embeddings_matrix[i] = embedding_vector;"
      ],
      "execution_count": 0,
      "outputs": [
        {
          "output_type": "stream",
          "text": [
            "--2020-04-23 04:15:12--  https://storage.googleapis.com/laurencemoroney-blog.appspot.com/glove.6B.100d.txt\n",
            "Resolving storage.googleapis.com (storage.googleapis.com)... 74.125.130.128, 2404:6800:4003:c02::80\n",
            "Connecting to storage.googleapis.com (storage.googleapis.com)|74.125.130.128|:443... connected.\n",
            "HTTP request sent, awaiting response... 200 OK\n",
            "Length: 347116733 (331M) [text/plain]\n",
            "Saving to: ‘/tmp/glove.6B.100d.txt’\n",
            "\n",
            "/tmp/glove.6B.100d. 100%[===================>] 331.04M  56.4MB/s    in 5.9s    \n",
            "\n",
            "2020-04-23 04:15:18 (56.4 MB/s) - ‘/tmp/glove.6B.100d.txt’ saved [347116733/347116733]\n",
            "\n"
          ],
          "name": "stdout"
        }
      ]
    },
    {
      "cell_type": "code",
      "metadata": {
        "colab_type": "code",
        "id": "71NLk_lpFLNt",
        "outputId": "fc684490-d105-46d5-fd8a-1443e6734c59",
        "colab": {
          "base_uri": "https://localhost:8080/",
          "height": 34
        }
      },
      "source": [
        "print(len(embeddings_matrix))\n",
        "# Expected Output\n",
        "# 138859"
      ],
      "execution_count": 0,
      "outputs": [
        {
          "output_type": "stream",
          "text": [
            "138443\n"
          ],
          "name": "stdout"
        }
      ]
    },
    {
      "cell_type": "code",
      "metadata": {
        "colab_type": "code",
        "id": "iKKvbuEBOGFz",
        "outputId": "5dd30df8-3d2c-4fe8-a8d2-929071755e20",
        "colab": {
          "base_uri": "https://localhost:8080/",
          "height": 1000
        }
      },
      "source": [
        "training_sequences = np.array(training_sequences)\n",
        "training_labels = np.array(training_labels)\n",
        "test_sequences = np.array(test_sequences)\n",
        "test_labels = np.array(test_labels)\n",
        "\n",
        "model = tf.keras.Sequential([\n",
        "    tf.keras.layers.Embedding(vocab_size+1, embedding_dim, input_length=max_length, weights=[embeddings_matrix], trainable=False),\n",
        "    tf.keras.layers.Dropout(0.2),\n",
        "    tf.keras.layers.Conv1D(64, 5, activation='relu'),\n",
        "    tf.keras.layers.MaxPooling1D(pool_size=4),\n",
        "    tf.keras.layers.LSTM(64),\n",
        "    tf.keras.layers.Dense(1, activation='sigmoid')\n",
        "])\n",
        "model.compile(loss='binary_crossentropy',optimizer='adam',metrics=['accuracy'])\n",
        "model.summary()\n",
        "\n",
        "num_epochs = 50\n",
        "history = model.fit(training_sequences, training_labels, epochs=num_epochs, steps_per_epoch = 100, validation_data=(test_sequences, test_labels), validation_steps = 10, verbose=2)\n",
        "\n",
        "print(\"Training Complete\")\n"
      ],
      "execution_count": 0,
      "outputs": [
        {
          "output_type": "stream",
          "text": [
            "Model: \"sequential_3\"\n",
            "_________________________________________________________________\n",
            "Layer (type)                 Output Shape              Param #   \n",
            "=================================================================\n",
            "embedding_3 (Embedding)      (None, 16, 100)           13844300  \n",
            "_________________________________________________________________\n",
            "dropout_3 (Dropout)          (None, 16, 100)           0         \n",
            "_________________________________________________________________\n",
            "conv1d_3 (Conv1D)            (None, 12, 64)            32064     \n",
            "_________________________________________________________________\n",
            "max_pooling1d_3 (MaxPooling1 (None, 3, 64)             0         \n",
            "_________________________________________________________________\n",
            "lstm_3 (LSTM)                (None, 64)                33024     \n",
            "_________________________________________________________________\n",
            "dense_3 (Dense)              (None, 1)                 65        \n",
            "=================================================================\n",
            "Total params: 13,909,453\n",
            "Trainable params: 65,153\n",
            "Non-trainable params: 13,844,300\n",
            "_________________________________________________________________\n",
            "Epoch 1/50\n",
            "100/100 - 1s - loss: 0.6272 - accuracy: 0.6446 - val_loss: 0.5764 - val_accuracy: 0.6913\n",
            "Epoch 2/50\n",
            "100/100 - 1s - loss: 0.5665 - accuracy: 0.7006 - val_loss: 0.5438 - val_accuracy: 0.7194\n",
            "Epoch 3/50\n",
            "100/100 - 1s - loss: 0.5438 - accuracy: 0.7204 - val_loss: 0.5394 - val_accuracy: 0.7237\n",
            "Epoch 4/50\n",
            "100/100 - 1s - loss: 0.5302 - accuracy: 0.7297 - val_loss: 0.5260 - val_accuracy: 0.7327\n",
            "Epoch 5/50\n",
            "100/100 - 1s - loss: 0.5209 - accuracy: 0.7366 - val_loss: 0.5232 - val_accuracy: 0.7336\n",
            "Epoch 6/50\n",
            "100/100 - 1s - loss: 0.5128 - accuracy: 0.7431 - val_loss: 0.5248 - val_accuracy: 0.7327\n",
            "Epoch 7/50\n",
            "100/100 - 1s - loss: 0.5075 - accuracy: 0.7458 - val_loss: 0.5151 - val_accuracy: 0.7394\n",
            "Epoch 8/50\n",
            "100/100 - 1s - loss: 0.5015 - accuracy: 0.7507 - val_loss: 0.5150 - val_accuracy: 0.7411\n",
            "Epoch 9/50\n",
            "100/100 - 1s - loss: 0.4975 - accuracy: 0.7533 - val_loss: 0.5188 - val_accuracy: 0.7375\n",
            "Epoch 10/50\n",
            "100/100 - 1s - loss: 0.4930 - accuracy: 0.7563 - val_loss: 0.5135 - val_accuracy: 0.7423\n",
            "Epoch 11/50\n",
            "100/100 - 1s - loss: 0.4902 - accuracy: 0.7579 - val_loss: 0.5166 - val_accuracy: 0.7399\n",
            "Epoch 12/50\n",
            "100/100 - 1s - loss: 0.4862 - accuracy: 0.7602 - val_loss: 0.5078 - val_accuracy: 0.7462\n",
            "Epoch 13/50\n",
            "100/100 - 1s - loss: 0.4812 - accuracy: 0.7646 - val_loss: 0.5109 - val_accuracy: 0.7451\n",
            "Epoch 14/50\n",
            "100/100 - 1s - loss: 0.4791 - accuracy: 0.7654 - val_loss: 0.5092 - val_accuracy: 0.7479\n",
            "Epoch 15/50\n",
            "100/100 - 1s - loss: 0.4781 - accuracy: 0.7660 - val_loss: 0.5069 - val_accuracy: 0.7493\n",
            "Epoch 16/50\n",
            "100/100 - 1s - loss: 0.4758 - accuracy: 0.7686 - val_loss: 0.5055 - val_accuracy: 0.7488\n",
            "Epoch 17/50\n",
            "100/100 - 1s - loss: 0.4732 - accuracy: 0.7698 - val_loss: 0.5115 - val_accuracy: 0.7483\n",
            "Epoch 18/50\n",
            "100/100 - 1s - loss: 0.4706 - accuracy: 0.7710 - val_loss: 0.5057 - val_accuracy: 0.7510\n",
            "Epoch 19/50\n",
            "100/100 - 1s - loss: 0.4702 - accuracy: 0.7704 - val_loss: 0.5133 - val_accuracy: 0.7478\n",
            "Epoch 20/50\n",
            "100/100 - 1s - loss: 0.4687 - accuracy: 0.7727 - val_loss: 0.5104 - val_accuracy: 0.7470\n",
            "Epoch 21/50\n",
            "100/100 - 1s - loss: 0.4655 - accuracy: 0.7748 - val_loss: 0.5082 - val_accuracy: 0.7477\n",
            "Epoch 22/50\n",
            "100/100 - 1s - loss: 0.4654 - accuracy: 0.7750 - val_loss: 0.5140 - val_accuracy: 0.7473\n",
            "Epoch 23/50\n",
            "100/100 - 1s - loss: 0.4622 - accuracy: 0.7772 - val_loss: 0.5076 - val_accuracy: 0.7481\n",
            "Epoch 24/50\n",
            "100/100 - 1s - loss: 0.4613 - accuracy: 0.7762 - val_loss: 0.5106 - val_accuracy: 0.7464\n",
            "Epoch 25/50\n",
            "100/100 - 1s - loss: 0.4584 - accuracy: 0.7793 - val_loss: 0.5079 - val_accuracy: 0.7463\n",
            "Epoch 26/50\n",
            "100/100 - 1s - loss: 0.4598 - accuracy: 0.7786 - val_loss: 0.5190 - val_accuracy: 0.7409\n",
            "Epoch 27/50\n",
            "100/100 - 1s - loss: 0.4563 - accuracy: 0.7810 - val_loss: 0.5060 - val_accuracy: 0.7486\n",
            "Epoch 28/50\n",
            "100/100 - 1s - loss: 0.4577 - accuracy: 0.7788 - val_loss: 0.5086 - val_accuracy: 0.7502\n",
            "Epoch 29/50\n",
            "100/100 - 1s - loss: 0.4544 - accuracy: 0.7805 - val_loss: 0.5089 - val_accuracy: 0.7481\n",
            "Epoch 30/50\n",
            "100/100 - 1s - loss: 0.4524 - accuracy: 0.7827 - val_loss: 0.5051 - val_accuracy: 0.7496\n",
            "Epoch 31/50\n",
            "100/100 - 1s - loss: 0.4536 - accuracy: 0.7823 - val_loss: 0.5087 - val_accuracy: 0.7511\n",
            "Epoch 32/50\n",
            "100/100 - 1s - loss: 0.4502 - accuracy: 0.7847 - val_loss: 0.5104 - val_accuracy: 0.7486\n",
            "Epoch 33/50\n",
            "100/100 - 1s - loss: 0.4508 - accuracy: 0.7834 - val_loss: 0.5081 - val_accuracy: 0.7482\n",
            "Epoch 34/50\n",
            "100/100 - 1s - loss: 0.4475 - accuracy: 0.7872 - val_loss: 0.5130 - val_accuracy: 0.7467\n",
            "Epoch 35/50\n",
            "100/100 - 1s - loss: 0.4474 - accuracy: 0.7851 - val_loss: 0.5152 - val_accuracy: 0.7449\n",
            "Epoch 36/50\n",
            "100/100 - 1s - loss: 0.4462 - accuracy: 0.7864 - val_loss: 0.5108 - val_accuracy: 0.7482\n",
            "Epoch 37/50\n",
            "100/100 - 1s - loss: 0.4456 - accuracy: 0.7871 - val_loss: 0.5116 - val_accuracy: 0.7471\n",
            "Epoch 38/50\n",
            "100/100 - 1s - loss: 0.4438 - accuracy: 0.7874 - val_loss: 0.5128 - val_accuracy: 0.7482\n",
            "Epoch 39/50\n",
            "100/100 - 1s - loss: 0.4432 - accuracy: 0.7879 - val_loss: 0.5100 - val_accuracy: 0.7471\n",
            "Epoch 40/50\n",
            "100/100 - 1s - loss: 0.4427 - accuracy: 0.7891 - val_loss: 0.5140 - val_accuracy: 0.7464\n",
            "Epoch 41/50\n",
            "100/100 - 1s - loss: 0.4418 - accuracy: 0.7900 - val_loss: 0.5131 - val_accuracy: 0.7479\n",
            "Epoch 42/50\n",
            "100/100 - 1s - loss: 0.4422 - accuracy: 0.7889 - val_loss: 0.5083 - val_accuracy: 0.7477\n",
            "Epoch 43/50\n",
            "100/100 - 1s - loss: 0.4398 - accuracy: 0.7898 - val_loss: 0.5091 - val_accuracy: 0.7459\n",
            "Epoch 44/50\n",
            "100/100 - 1s - loss: 0.4392 - accuracy: 0.7906 - val_loss: 0.5188 - val_accuracy: 0.7394\n",
            "Epoch 45/50\n",
            "100/100 - 1s - loss: 0.4386 - accuracy: 0.7916 - val_loss: 0.5105 - val_accuracy: 0.7484\n",
            "Epoch 46/50\n",
            "100/100 - 1s - loss: 0.4376 - accuracy: 0.7906 - val_loss: 0.5138 - val_accuracy: 0.7487\n",
            "Epoch 47/50\n",
            "100/100 - 1s - loss: 0.4361 - accuracy: 0.7929 - val_loss: 0.5100 - val_accuracy: 0.7494\n",
            "Epoch 48/50\n",
            "100/100 - 1s - loss: 0.4395 - accuracy: 0.7906 - val_loss: 0.5157 - val_accuracy: 0.7484\n",
            "Epoch 49/50\n",
            "100/100 - 1s - loss: 0.4363 - accuracy: 0.7919 - val_loss: 0.5097 - val_accuracy: 0.7494\n",
            "Epoch 50/50\n",
            "100/100 - 1s - loss: 0.4339 - accuracy: 0.7936 - val_loss: 0.5213 - val_accuracy: 0.7458\n",
            "Training Complete\n"
          ],
          "name": "stdout"
        }
      ]
    },
    {
      "cell_type": "code",
      "metadata": {
        "colab_type": "code",
        "id": "qxju4ItJKO8F",
        "outputId": "4bc526d3-8931-4591-ec7e-30970f0e33ee",
        "colab": {
          "base_uri": "https://localhost:8080/",
          "height": 607
        }
      },
      "source": [
        "import matplotlib.image  as mpimg\n",
        "import matplotlib.pyplot as plt\n",
        "\n",
        "#-----------------------------------------------------------\n",
        "# Retrieve a list of list results on training and test data\n",
        "# sets for each training epoch\n",
        "#-----------------------------------------------------------\n",
        "acc=history.history['accuracy']\n",
        "val_acc=history.history['val_accuracy']\n",
        "loss=history.history['loss']\n",
        "val_loss=history.history['val_loss']\n",
        "\n",
        "epochs=range(len(acc)) # Get number of epochs\n",
        "\n",
        "#------------------------------------------------\n",
        "# Plot training and validation accuracy per epoch\n",
        "#------------------------------------------------\n",
        "plt.plot(epochs, acc, 'r')\n",
        "plt.plot(epochs, val_acc, 'b')\n",
        "plt.title('Training and validation accuracy')\n",
        "plt.xlabel(\"Epochs\")\n",
        "plt.ylabel(\"Accuracy\")\n",
        "plt.legend([\"Accuracy\", \"Validation Accuracy\"])\n",
        "\n",
        "plt.figure()\n",
        "\n",
        "#------------------------------------------------\n",
        "# Plot training and validation loss per epoch\n",
        "#------------------------------------------------\n",
        "plt.plot(epochs, loss, 'r')\n",
        "plt.plot(epochs, val_loss, 'b')\n",
        "plt.title('Training and validation loss')\n",
        "plt.xlabel(\"Epochs\")\n",
        "plt.ylabel(\"Loss\")\n",
        "plt.legend([\"Loss\", \"Validation Loss\"])\n",
        "\n",
        "plt.figure()\n",
        "\n",
        "\n",
        "# Expected Output\n",
        "# A chart where the validation loss does not increase sharply!"
      ],
      "execution_count": 0,
      "outputs": [
        {
          "output_type": "execute_result",
          "data": {
            "text/plain": [
              "<Figure size 432x288 with 0 Axes>"
            ]
          },
          "metadata": {
            "tags": []
          },
          "execution_count": 16
        },
        {
          "output_type": "display_data",
          "data": {
            "image/png": "[encoded data removed]",
            "text/plain": [
              "<Figure size 432x288 with 1 Axes>"
            ]
          },
          "metadata": {
            "tags": [],
            "needs_background": "light"
          }
        },
        {
          "output_type": "display_data",
          "data": {
            "image/png": "[encoded data removed]",
            "text/plain": [
              "<Figure size 432x288 with 1 Axes>"
            ]
          },
          "metadata": {
            "tags": [],
            "needs_background": "light"
          }
        },
        {
          "output_type": "display_data",
          "data": {
            "text/plain": [
              "<Figure size 432x288 with 0 Axes>"
            ]
          },
          "metadata": {
            "tags": []
          }
        }
      ]
    },
    {
      "cell_type": "code",
      "metadata": {
        "id": "E8FMQPTUPh9c",
        "colab_type": "code",
        "colab": {}
      },
      "source": [
        ""
      ],
      "execution_count": 0,
      "outputs": []
    }
  ]
}